{
 "cells": [
  {
   "cell_type": "code",
   "execution_count": 1,
   "id": "97555a4a",
   "metadata": {
    "_cell_guid": "b1076dfc-b9ad-4769-8c92-a6c4dae69d19",
    "_uuid": "8f2839f25d086af736a60e9eeb907d3b93b6e0e5",
    "execution": {
     "iopub.execute_input": "2021-12-17T13:40:11.199023Z",
     "iopub.status.busy": "2021-12-17T13:40:11.198037Z",
     "iopub.status.idle": "2021-12-17T13:40:12.131405Z",
     "shell.execute_reply": "2021-12-17T13:40:12.131887Z",
     "shell.execute_reply.started": "2021-12-17T12:08:17.920828Z"
    },
    "papermill": {
     "duration": 0.964975,
     "end_time": "2021-12-17T13:40:12.132217",
     "exception": false,
     "start_time": "2021-12-17T13:40:11.167242",
     "status": "completed"
    },
    "tags": []
   },
   "outputs": [
    {
     "name": "stdout",
     "output_type": "stream",
     "text": [
      "/kaggle/input/heart1/heart.csv\n"
     ]
    }
   ],
   "source": [
    "# This Python 3 environment comes with many helpful analytics libraries installed\n",
    "# It is defined by the kaggle/python Docker image: https://github.com/kaggle/docker-python\n",
    "# For example, here's several helpful packages to load\n",
    "# Importing libraries\n",
    "import numpy as np # linear algebra\n",
    "import pandas as pd # data processing, CSV file I/O (e.g. pd.read_csv)\n",
    "import matplotlib as plt\n",
    "import matplotlib.pyplot as plt\n",
    "import seaborn as sns\n",
    "%matplotlib inline \n",
    "\n",
    "# Input data files are available in the read-only \"../input/\" directory\n",
    "# For example, running this (by clicking run or pressing Shift+Enter) will list all files under the input directory\n",
    "\n",
    "import os\n",
    "for dirname, _, filenames in os.walk('/kaggle/input'):\n",
    "    for filename in filenames:\n",
    "        print(os.path.join(dirname, filename))\n",
    "\n",
    "# You can write up to 20GB to the current directory (/kaggle/working/) that gets preserved as output when you create a version using \"Save & Run All\" \n",
    "# You can also write temporary files to /kaggle/temp/, but they won't be saved outside of the current session"
   ]
  },
  {
   "cell_type": "code",
   "execution_count": 2,
   "id": "969585fa",
   "metadata": {
    "execution": {
     "iopub.execute_input": "2021-12-17T13:40:12.179905Z",
     "iopub.status.busy": "2021-12-17T13:40:12.179177Z",
     "iopub.status.idle": "2021-12-17T13:40:12.215215Z",
     "shell.execute_reply": "2021-12-17T13:40:12.215764Z",
     "shell.execute_reply.started": "2021-12-17T12:08:18.965574Z"
    },
    "papermill": {
     "duration": 0.062338,
     "end_time": "2021-12-17T13:40:12.215939",
     "exception": false,
     "start_time": "2021-12-17T13:40:12.153601",
     "status": "completed"
    },
    "tags": []
   },
   "outputs": [
    {
     "data": {
      "text/html": [
       "<div>\n",
       "<style scoped>\n",
       "    .dataframe tbody tr th:only-of-type {\n",
       "        vertical-align: middle;\n",
       "    }\n",
       "\n",
       "    .dataframe tbody tr th {\n",
       "        vertical-align: top;\n",
       "    }\n",
       "\n",
       "    .dataframe thead th {\n",
       "        text-align: right;\n",
       "    }\n",
       "</style>\n",
       "<table border=\"1\" class=\"dataframe\">\n",
       "  <thead>\n",
       "    <tr style=\"text-align: right;\">\n",
       "      <th></th>\n",
       "      <th>Age</th>\n",
       "      <th>Sex</th>\n",
       "      <th>ChestPainType</th>\n",
       "      <th>RestingBP</th>\n",
       "      <th>Cholesterol</th>\n",
       "      <th>FastingBS</th>\n",
       "      <th>RestingECG</th>\n",
       "      <th>MaxHR</th>\n",
       "      <th>ExerciseAngina</th>\n",
       "      <th>Oldpeak</th>\n",
       "      <th>ST_Slope</th>\n",
       "      <th>HeartDisease</th>\n",
       "    </tr>\n",
       "  </thead>\n",
       "  <tbody>\n",
       "    <tr>\n",
       "      <th>0</th>\n",
       "      <td>40</td>\n",
       "      <td>M</td>\n",
       "      <td>ATA</td>\n",
       "      <td>140</td>\n",
       "      <td>289</td>\n",
       "      <td>0</td>\n",
       "      <td>Normal</td>\n",
       "      <td>172</td>\n",
       "      <td>N</td>\n",
       "      <td>0.0</td>\n",
       "      <td>Up</td>\n",
       "      <td>0</td>\n",
       "    </tr>\n",
       "    <tr>\n",
       "      <th>1</th>\n",
       "      <td>49</td>\n",
       "      <td>F</td>\n",
       "      <td>NAP</td>\n",
       "      <td>160</td>\n",
       "      <td>180</td>\n",
       "      <td>0</td>\n",
       "      <td>Normal</td>\n",
       "      <td>156</td>\n",
       "      <td>N</td>\n",
       "      <td>1.0</td>\n",
       "      <td>Flat</td>\n",
       "      <td>1</td>\n",
       "    </tr>\n",
       "    <tr>\n",
       "      <th>2</th>\n",
       "      <td>37</td>\n",
       "      <td>M</td>\n",
       "      <td>ATA</td>\n",
       "      <td>130</td>\n",
       "      <td>283</td>\n",
       "      <td>0</td>\n",
       "      <td>ST</td>\n",
       "      <td>98</td>\n",
       "      <td>N</td>\n",
       "      <td>0.0</td>\n",
       "      <td>Up</td>\n",
       "      <td>0</td>\n",
       "    </tr>\n",
       "    <tr>\n",
       "      <th>3</th>\n",
       "      <td>48</td>\n",
       "      <td>F</td>\n",
       "      <td>ASY</td>\n",
       "      <td>138</td>\n",
       "      <td>214</td>\n",
       "      <td>0</td>\n",
       "      <td>Normal</td>\n",
       "      <td>108</td>\n",
       "      <td>Y</td>\n",
       "      <td>1.5</td>\n",
       "      <td>Flat</td>\n",
       "      <td>1</td>\n",
       "    </tr>\n",
       "    <tr>\n",
       "      <th>4</th>\n",
       "      <td>54</td>\n",
       "      <td>M</td>\n",
       "      <td>NAP</td>\n",
       "      <td>150</td>\n",
       "      <td>195</td>\n",
       "      <td>0</td>\n",
       "      <td>Normal</td>\n",
       "      <td>122</td>\n",
       "      <td>N</td>\n",
       "      <td>0.0</td>\n",
       "      <td>Up</td>\n",
       "      <td>0</td>\n",
       "    </tr>\n",
       "  </tbody>\n",
       "</table>\n",
       "</div>"
      ],
      "text/plain": [
       "   Age Sex ChestPainType  RestingBP  Cholesterol  FastingBS RestingECG  MaxHR  \\\n",
       "0   40   M           ATA        140          289          0     Normal    172   \n",
       "1   49   F           NAP        160          180          0     Normal    156   \n",
       "2   37   M           ATA        130          283          0         ST     98   \n",
       "3   48   F           ASY        138          214          0     Normal    108   \n",
       "4   54   M           NAP        150          195          0     Normal    122   \n",
       "\n",
       "  ExerciseAngina  Oldpeak ST_Slope  HeartDisease  \n",
       "0              N      0.0       Up             0  \n",
       "1              N      1.0     Flat             1  \n",
       "2              N      0.0       Up             0  \n",
       "3              Y      1.5     Flat             1  \n",
       "4              N      0.0       Up             0  "
      ]
     },
     "execution_count": 2,
     "metadata": {},
     "output_type": "execute_result"
    }
   ],
   "source": [
    "# data loading\n",
    "data = pd.read_csv(r\"/kaggle/input/heart1/heart.csv\")\n",
    "data.head()"
   ]
  },
  {
   "cell_type": "markdown",
   "id": "647631b6",
   "metadata": {
    "papermill": {
     "duration": 0.020951,
     "end_time": "2021-12-17T13:40:12.260640",
     "exception": false,
     "start_time": "2021-12-17T13:40:12.239689",
     "status": "completed"
    },
    "tags": []
   },
   "source": [
    "> **Features Description**\n",
    "\n",
    "Age : age of the patient (Years)\n",
    "\n",
    "Sex : sex of the patient (M: Male, F: Female)\n",
    "\n",
    "ChestPainType : chest pain type\n",
    "\n",
    "TA: Typical Angina,\n",
    "\n",
    "ATA: Atypical Angina,\n",
    "\n",
    "NAP: Non-Anginal Pain,\n",
    "\n",
    "ASY: Asymptomatic\n",
    "\n",
    "RestingBP : resting blood pressure (mm Hg)\n",
    "\n",
    "Cholesterol: serum cholesterol (mm/dl)\n",
    "\n",
    "FastingBS : fasting blood sugar (1: if FastingBS > 120 mg/dl, 0: otherwise)\n",
    "\n",
    "RestingECG : resting electrocardiogram results\n",
    "\n",
    "Normal: Normal,\n",
    "\n",
    "ST: having ST-T wave abnormality (T wave inversions and/or ST elevation or depression of > 0.05 mV),\n",
    "\n",
    "LVH: showing probable or definite left ventricular hypertrophy by Estes' criteria\n",
    "\n",
    "MaxHR : maximum heart rate achieved (Numeric value between 60 and 202)\n",
    "\n",
    "ExerciseAngina : exercise-induced angina (Y: Yes, N: No)\n",
    "\n",
    "Oldpeak : oldpeak = ST (Numeric value measured in depression)\n",
    "\n",
    "ST_Slope : the slope of the peak exercise ST segment (Up: upsloping, Flat: flat, Down: downsloping)\n",
    "\n",
    "HeartDisease : output class (1: heart disease, 0: Normal)"
   ]
  },
  {
   "cell_type": "code",
   "execution_count": 3,
   "id": "2186b1b6",
   "metadata": {
    "execution": {
     "iopub.execute_input": "2021-12-17T13:40:12.308602Z",
     "iopub.status.busy": "2021-12-17T13:40:12.307747Z",
     "iopub.status.idle": "2021-12-17T13:40:12.311569Z",
     "shell.execute_reply": "2021-12-17T13:40:12.312095Z",
     "shell.execute_reply.started": "2021-12-17T12:08:19.003404Z"
    },
    "papermill": {
     "duration": 0.03047,
     "end_time": "2021-12-17T13:40:12.312297",
     "exception": false,
     "start_time": "2021-12-17T13:40:12.281827",
     "status": "completed"
    },
    "tags": []
   },
   "outputs": [
    {
     "data": {
      "text/plain": [
       "(918, 12)"
      ]
     },
     "execution_count": 3,
     "metadata": {},
     "output_type": "execute_result"
    }
   ],
   "source": [
    "data.shape"
   ]
  },
  {
   "cell_type": "code",
   "execution_count": 4,
   "id": "2fc8edaa",
   "metadata": {
    "execution": {
     "iopub.execute_input": "2021-12-17T13:40:12.383516Z",
     "iopub.status.busy": "2021-12-17T13:40:12.374663Z",
     "iopub.status.idle": "2021-12-17T13:40:12.388293Z",
     "shell.execute_reply": "2021-12-17T13:40:12.387627Z",
     "shell.execute_reply.started": "2021-12-17T12:08:19.011708Z"
    },
    "papermill": {
     "duration": 0.053915,
     "end_time": "2021-12-17T13:40:12.388439",
     "exception": false,
     "start_time": "2021-12-17T13:40:12.334524",
     "status": "completed"
    },
    "tags": []
   },
   "outputs": [
    {
     "name": "stdout",
     "output_type": "stream",
     "text": [
      "<class 'pandas.core.frame.DataFrame'>\n",
      "RangeIndex: 918 entries, 0 to 917\n",
      "Data columns (total 12 columns):\n",
      " #   Column          Non-Null Count  Dtype  \n",
      "---  ------          --------------  -----  \n",
      " 0   Age             918 non-null    int64  \n",
      " 1   Sex             918 non-null    object \n",
      " 2   ChestPainType   918 non-null    object \n",
      " 3   RestingBP       918 non-null    int64  \n",
      " 4   Cholesterol     918 non-null    int64  \n",
      " 5   FastingBS       918 non-null    int64  \n",
      " 6   RestingECG      918 non-null    object \n",
      " 7   MaxHR           918 non-null    int64  \n",
      " 8   ExerciseAngina  918 non-null    object \n",
      " 9   Oldpeak         918 non-null    float64\n",
      " 10  ST_Slope        918 non-null    object \n",
      " 11  HeartDisease    918 non-null    int64  \n",
      "dtypes: float64(1), int64(6), object(5)\n",
      "memory usage: 86.2+ KB\n"
     ]
    }
   ],
   "source": [
    "data.info()"
   ]
  },
  {
   "cell_type": "code",
   "execution_count": 5,
   "id": "ebe68821",
   "metadata": {
    "execution": {
     "iopub.execute_input": "2021-12-17T13:40:12.441212Z",
     "iopub.status.busy": "2021-12-17T13:40:12.440507Z",
     "iopub.status.idle": "2021-12-17T13:40:12.466924Z",
     "shell.execute_reply": "2021-12-17T13:40:12.466303Z",
     "shell.execute_reply.started": "2021-12-17T12:08:19.049065Z"
    },
    "papermill": {
     "duration": 0.05641,
     "end_time": "2021-12-17T13:40:12.467063",
     "exception": false,
     "start_time": "2021-12-17T13:40:12.410653",
     "status": "completed"
    },
    "tags": []
   },
   "outputs": [
    {
     "data": {
      "text/html": [
       "<div>\n",
       "<style scoped>\n",
       "    .dataframe tbody tr th:only-of-type {\n",
       "        vertical-align: middle;\n",
       "    }\n",
       "\n",
       "    .dataframe tbody tr th {\n",
       "        vertical-align: top;\n",
       "    }\n",
       "\n",
       "    .dataframe thead th {\n",
       "        text-align: right;\n",
       "    }\n",
       "</style>\n",
       "<table border=\"1\" class=\"dataframe\">\n",
       "  <thead>\n",
       "    <tr style=\"text-align: right;\">\n",
       "      <th></th>\n",
       "      <th>Age</th>\n",
       "      <th>RestingBP</th>\n",
       "      <th>Cholesterol</th>\n",
       "      <th>FastingBS</th>\n",
       "      <th>MaxHR</th>\n",
       "      <th>Oldpeak</th>\n",
       "      <th>HeartDisease</th>\n",
       "    </tr>\n",
       "  </thead>\n",
       "  <tbody>\n",
       "    <tr>\n",
       "      <th>count</th>\n",
       "      <td>918.000000</td>\n",
       "      <td>918.000000</td>\n",
       "      <td>918.000000</td>\n",
       "      <td>918.000000</td>\n",
       "      <td>918.000000</td>\n",
       "      <td>918.000000</td>\n",
       "      <td>918.000000</td>\n",
       "    </tr>\n",
       "    <tr>\n",
       "      <th>mean</th>\n",
       "      <td>53.510893</td>\n",
       "      <td>132.396514</td>\n",
       "      <td>198.799564</td>\n",
       "      <td>0.233115</td>\n",
       "      <td>136.809368</td>\n",
       "      <td>0.887364</td>\n",
       "      <td>0.553377</td>\n",
       "    </tr>\n",
       "    <tr>\n",
       "      <th>std</th>\n",
       "      <td>9.432617</td>\n",
       "      <td>18.514154</td>\n",
       "      <td>109.384145</td>\n",
       "      <td>0.423046</td>\n",
       "      <td>25.460334</td>\n",
       "      <td>1.066570</td>\n",
       "      <td>0.497414</td>\n",
       "    </tr>\n",
       "    <tr>\n",
       "      <th>min</th>\n",
       "      <td>28.000000</td>\n",
       "      <td>0.000000</td>\n",
       "      <td>0.000000</td>\n",
       "      <td>0.000000</td>\n",
       "      <td>60.000000</td>\n",
       "      <td>-2.600000</td>\n",
       "      <td>0.000000</td>\n",
       "    </tr>\n",
       "    <tr>\n",
       "      <th>25%</th>\n",
       "      <td>47.000000</td>\n",
       "      <td>120.000000</td>\n",
       "      <td>173.250000</td>\n",
       "      <td>0.000000</td>\n",
       "      <td>120.000000</td>\n",
       "      <td>0.000000</td>\n",
       "      <td>0.000000</td>\n",
       "    </tr>\n",
       "    <tr>\n",
       "      <th>50%</th>\n",
       "      <td>54.000000</td>\n",
       "      <td>130.000000</td>\n",
       "      <td>223.000000</td>\n",
       "      <td>0.000000</td>\n",
       "      <td>138.000000</td>\n",
       "      <td>0.600000</td>\n",
       "      <td>1.000000</td>\n",
       "    </tr>\n",
       "    <tr>\n",
       "      <th>75%</th>\n",
       "      <td>60.000000</td>\n",
       "      <td>140.000000</td>\n",
       "      <td>267.000000</td>\n",
       "      <td>0.000000</td>\n",
       "      <td>156.000000</td>\n",
       "      <td>1.500000</td>\n",
       "      <td>1.000000</td>\n",
       "    </tr>\n",
       "    <tr>\n",
       "      <th>max</th>\n",
       "      <td>77.000000</td>\n",
       "      <td>200.000000</td>\n",
       "      <td>603.000000</td>\n",
       "      <td>1.000000</td>\n",
       "      <td>202.000000</td>\n",
       "      <td>6.200000</td>\n",
       "      <td>1.000000</td>\n",
       "    </tr>\n",
       "  </tbody>\n",
       "</table>\n",
       "</div>"
      ],
      "text/plain": [
       "              Age   RestingBP  Cholesterol   FastingBS       MaxHR  \\\n",
       "count  918.000000  918.000000   918.000000  918.000000  918.000000   \n",
       "mean    53.510893  132.396514   198.799564    0.233115  136.809368   \n",
       "std      9.432617   18.514154   109.384145    0.423046   25.460334   \n",
       "min     28.000000    0.000000     0.000000    0.000000   60.000000   \n",
       "25%     47.000000  120.000000   173.250000    0.000000  120.000000   \n",
       "50%     54.000000  130.000000   223.000000    0.000000  138.000000   \n",
       "75%     60.000000  140.000000   267.000000    0.000000  156.000000   \n",
       "max     77.000000  200.000000   603.000000    1.000000  202.000000   \n",
       "\n",
       "          Oldpeak  HeartDisease  \n",
       "count  918.000000    918.000000  \n",
       "mean     0.887364      0.553377  \n",
       "std      1.066570      0.497414  \n",
       "min     -2.600000      0.000000  \n",
       "25%      0.000000      0.000000  \n",
       "50%      0.600000      1.000000  \n",
       "75%      1.500000      1.000000  \n",
       "max      6.200000      1.000000  "
      ]
     },
     "execution_count": 5,
     "metadata": {},
     "output_type": "execute_result"
    }
   ],
   "source": [
    "data.describe()"
   ]
  },
  {
   "cell_type": "code",
   "execution_count": 6,
   "id": "628192cb",
   "metadata": {
    "execution": {
     "iopub.execute_input": "2021-12-17T13:40:12.520208Z",
     "iopub.status.busy": "2021-12-17T13:40:12.514804Z",
     "iopub.status.idle": "2021-12-17T13:40:12.523676Z",
     "shell.execute_reply": "2021-12-17T13:40:12.524122Z",
     "shell.execute_reply.started": "2021-12-17T12:08:19.085950Z"
    },
    "papermill": {
     "duration": 0.034662,
     "end_time": "2021-12-17T13:40:12.524336",
     "exception": false,
     "start_time": "2021-12-17T13:40:12.489674",
     "status": "completed"
    },
    "tags": []
   },
   "outputs": [
    {
     "data": {
      "text/plain": [
       "Age               0\n",
       "Sex               0\n",
       "ChestPainType     0\n",
       "RestingBP         0\n",
       "Cholesterol       0\n",
       "FastingBS         0\n",
       "RestingECG        0\n",
       "MaxHR             0\n",
       "ExerciseAngina    0\n",
       "Oldpeak           0\n",
       "ST_Slope          0\n",
       "HeartDisease      0\n",
       "dtype: int64"
      ]
     },
     "execution_count": 6,
     "metadata": {},
     "output_type": "execute_result"
    }
   ],
   "source": [
    "data.isnull().sum()"
   ]
  },
  {
   "cell_type": "code",
   "execution_count": 7,
   "id": "72cb24d3",
   "metadata": {
    "execution": {
     "iopub.execute_input": "2021-12-17T13:40:12.575327Z",
     "iopub.status.busy": "2021-12-17T13:40:12.574669Z",
     "iopub.status.idle": "2021-12-17T13:40:12.578778Z",
     "shell.execute_reply": "2021-12-17T13:40:12.578296Z",
     "shell.execute_reply.started": "2021-12-17T12:08:19.096725Z"
    },
    "papermill": {
     "duration": 0.031533,
     "end_time": "2021-12-17T13:40:12.578912",
     "exception": false,
     "start_time": "2021-12-17T13:40:12.547379",
     "status": "completed"
    },
    "tags": []
   },
   "outputs": [
    {
     "data": {
      "text/plain": [
       "Index(['Age', 'Sex', 'ChestPainType', 'RestingBP', 'Cholesterol', 'FastingBS',\n",
       "       'RestingECG', 'MaxHR', 'ExerciseAngina', 'Oldpeak', 'ST_Slope',\n",
       "       'HeartDisease'],\n",
       "      dtype='object')"
      ]
     },
     "execution_count": 7,
     "metadata": {},
     "output_type": "execute_result"
    }
   ],
   "source": [
    "data.columns"
   ]
  },
  {
   "cell_type": "code",
   "execution_count": 8,
   "id": "f704fb76",
   "metadata": {
    "execution": {
     "iopub.execute_input": "2021-12-17T13:40:12.635317Z",
     "iopub.status.busy": "2021-12-17T13:40:12.630469Z",
     "iopub.status.idle": "2021-12-17T13:40:12.639870Z",
     "shell.execute_reply": "2021-12-17T13:40:12.640406Z",
     "shell.execute_reply.started": "2021-12-17T12:08:19.109553Z"
    },
    "papermill": {
     "duration": 0.038361,
     "end_time": "2021-12-17T13:40:12.640610",
     "exception": false,
     "start_time": "2021-12-17T13:40:12.602249",
     "status": "completed"
    },
    "tags": []
   },
   "outputs": [
    {
     "data": {
      "text/plain": [
       "Age                50\n",
       "Sex                 2\n",
       "ChestPainType       4\n",
       "RestingBP          67\n",
       "Cholesterol       222\n",
       "FastingBS           2\n",
       "RestingECG          3\n",
       "MaxHR             119\n",
       "ExerciseAngina      2\n",
       "Oldpeak            53\n",
       "ST_Slope            3\n",
       "HeartDisease        2\n",
       "dtype: int64"
      ]
     },
     "execution_count": 8,
     "metadata": {},
     "output_type": "execute_result"
    }
   ],
   "source": [
    "data.nunique()"
   ]
  },
  {
   "cell_type": "code",
   "execution_count": 9,
   "id": "713441e2",
   "metadata": {
    "execution": {
     "iopub.execute_input": "2021-12-17T13:40:12.693986Z",
     "iopub.status.busy": "2021-12-17T13:40:12.693331Z",
     "iopub.status.idle": "2021-12-17T13:40:12.696324Z",
     "shell.execute_reply": "2021-12-17T13:40:12.695762Z",
     "shell.execute_reply.started": "2021-12-17T12:08:19.129824Z"
    },
    "papermill": {
     "duration": 0.031846,
     "end_time": "2021-12-17T13:40:12.696461",
     "exception": false,
     "start_time": "2021-12-17T13:40:12.664615",
     "status": "completed"
    },
    "tags": []
   },
   "outputs": [
    {
     "data": {
      "text/plain": [
       "28"
      ]
     },
     "execution_count": 9,
     "metadata": {},
     "output_type": "execute_result"
    }
   ],
   "source": [
    "data.Age.min()\n"
   ]
  },
  {
   "cell_type": "code",
   "execution_count": 10,
   "id": "086413c7",
   "metadata": {
    "execution": {
     "iopub.execute_input": "2021-12-17T13:40:12.749769Z",
     "iopub.status.busy": "2021-12-17T13:40:12.748974Z",
     "iopub.status.idle": "2021-12-17T13:40:12.752162Z",
     "shell.execute_reply": "2021-12-17T13:40:12.751626Z",
     "shell.execute_reply.started": "2021-12-17T12:08:19.138376Z"
    },
    "papermill": {
     "duration": 0.031851,
     "end_time": "2021-12-17T13:40:12.752314",
     "exception": false,
     "start_time": "2021-12-17T13:40:12.720463",
     "status": "completed"
    },
    "tags": []
   },
   "outputs": [
    {
     "data": {
      "text/plain": [
       "77"
      ]
     },
     "execution_count": 10,
     "metadata": {},
     "output_type": "execute_result"
    }
   ],
   "source": [
    "data.Age.max()"
   ]
  },
  {
   "cell_type": "markdown",
   "id": "5f0d1b52",
   "metadata": {
    "papermill": {
     "duration": 0.023951,
     "end_time": "2021-12-17T13:40:12.800603",
     "exception": false,
     "start_time": "2021-12-17T13:40:12.776652",
     "status": "completed"
    },
    "tags": []
   },
   "source": [
    "**Data Analysis**\n",
    "\n",
    "Age:\n",
    "\n",
    "We found the Min and Max age of Patient's from 28 to 77 included in the dataset. The distribution of age is left skewed so that, the mean of age is slightly less than the median. There is no such a difference observed in the distribution of Age with or without Heart Disease. So, we can say that, Age may not be major factor to diagnose the Heart Failure.\n",
    "\n"
   ]
  },
  {
   "cell_type": "code",
   "execution_count": 11,
   "id": "84d0beec",
   "metadata": {
    "_kg_hide-input": true,
    "execution": {
     "iopub.execute_input": "2021-12-17T13:40:12.860315Z",
     "iopub.status.busy": "2021-12-17T13:40:12.859639Z",
     "iopub.status.idle": "2021-12-17T13:40:13.448781Z",
     "shell.execute_reply": "2021-12-17T13:40:13.448227Z",
     "shell.execute_reply.started": "2021-12-17T12:08:19.155987Z"
    },
    "papermill": {
     "duration": 0.624009,
     "end_time": "2021-12-17T13:40:13.448920",
     "exception": false,
     "start_time": "2021-12-17T13:40:12.824911",
     "status": "completed"
    },
    "tags": []
   },
   "outputs": [
    {
     "data": {
      "image/png": "[encoded data removed]",
      "text/plain": [
       "<Figure size 1008x360 with 1 Axes>"
      ]
     },
     "metadata": {
      "needs_background": "light"
     },
     "output_type": "display_data"
    },
    {
     "data": {
      "image/png": "[encoded data removed]",
      "text/plain": [
       "<Figure size 1008x288 with 2 Axes>"
      ]
     },
     "metadata": {
      "needs_background": "light"
     },
     "output_type": "display_data"
    }
   ],
   "source": [
    "# data preparation for distribution of ages.\n",
    "ageMed=data.Age.median()\n",
    "ageMean = data.Age.mean()\n",
    "\n",
    "# grouped data by target feature 'HeartDisease'\n",
    "group = data.groupby(['HeartDisease'])\n",
    "hd_df = group.get_group(1)\n",
    "nhd_df = group.get_group(0)\n",
    "\n",
    "# selecting age by heart disease\n",
    "a = hd_df['Age']\n",
    "b = nhd_df['Age']\n",
    "\n",
    "# plot\n",
    "plt.figure(figsize=(14, 5))\n",
    "plt.hist(data.Age ,color = 'pink')\n",
    "plt.vlines(ageMed, ymin=0, ymax=201,color = 'orange',  ls='--', lw=2.5, label='Median')\n",
    "plt.vlines(ageMean, ymin=0, ymax=201,color = 'yellow', ls='--', lw=2.5, label='Mean')\n",
    "\n",
    "plt.xlabel('Age', size = 12)\n",
    "plt.ylabel('Frequency',size =12)\n",
    "plt.title(\"Distribution of Age\", size = 14,loc='left')\n",
    "plt.legend( fancybox = True)\n",
    "\n",
    "# subplots\n",
    "fig, axs=plt.subplots(nrows=1, ncols=2, figsize=(14, 4))\n",
    "ax1 = a.plot(kind='hist', ax=axs[0], color = 'pink')\n",
    "ax1.set_title('With Heart Disease', size=12.5)\n",
    "ax2 = b.plot(kind='hist', ax=axs[1], color = 'pink')\n",
    "ax2.set_title('Without Heart Disease', size=12.5)\n",
    "\n",
    "fig.suptitle('Distribution of Ages by Heart Disease', size=16)\n",
    "plt.show()\n"
   ]
  },
  {
   "cell_type": "code",
   "execution_count": 12,
   "id": "134b3e02",
   "metadata": {
    "execution": {
     "iopub.execute_input": "2021-12-17T13:40:13.505185Z",
     "iopub.status.busy": "2021-12-17T13:40:13.504131Z",
     "iopub.status.idle": "2021-12-17T13:40:13.713108Z",
     "shell.execute_reply": "2021-12-17T13:40:13.713700Z",
     "shell.execute_reply.started": "2021-12-17T12:08:19.794180Z"
    },
    "papermill": {
     "duration": 0.239221,
     "end_time": "2021-12-17T13:40:13.714019",
     "exception": false,
     "start_time": "2021-12-17T13:40:13.474798",
     "status": "completed"
    },
    "tags": []
   },
   "outputs": [
    {
     "name": "stdout",
     "output_type": "stream",
     "text": [
      "Sex  HeartDisease        \n",
      "F    Without HeartDisease    143\n",
      "     With HeartDisease        50\n",
      "M    Without HeartDisease    267\n",
      "     With HeartDisease       458\n",
      "Name: HeartDisease, dtype: int64\n"
     ]
    },
    {
     "data": {
      "text/plain": [
       "Text(0.5, 1.0, 'MALE & FEMALE RATIO OF HEARTDIASIES')"
      ]
     },
     "execution_count": 12,
     "metadata": {},
     "output_type": "execute_result"
    },
    {
     "data": {
      "image/png": "[encoded data removed]",
      "text/plain": [
       "<Figure size 936x504 with 1 Axes>"
      ]
     },
     "metadata": {
      "needs_background": "light"
     },
     "output_type": "display_data"
    }
   ],
   "source": [
    "# male female ratio for heart disease\n",
    "group1 = data.groupby(['Sex','HeartDisease'])['HeartDisease'].apply(lambda x: x.count())\n",
    "group1.rename(index={0:'Without HeartDisease',1:'With HeartDisease'},inplace = True)\n",
    "print(group1)\n",
    "\n",
    "\n",
    "plt.figure(figsize=(13, 7) )\n",
    "group1.plot.area(color = 'pink')\n",
    "plt.xlabel('MALE & FEMALE',fontsize=15 )\n",
    "plt.ylabel('TOTAL', fontsize = 15)\n",
    "plt.title(\"MALE & FEMALE RATIO OF HEARTDIASIES\", loc='center', size = 15)"
   ]
  },
  {
   "cell_type": "markdown",
   "id": "9f7fb0a3",
   "metadata": {
    "papermill": {
     "duration": 0.027659,
     "end_time": "2021-12-17T13:40:13.770564",
     "exception": false,
     "start_time": "2021-12-17T13:40:13.742905",
     "status": "completed"
    },
    "tags": []
   },
   "source": [
    "**Blood Pressure**\n",
    "\n",
    "This shows that the some of the patients having higher blood pressure values. While comparing the distribution of BP with and without Heart Disease, we can see that the patient with heart disease have higher blood pressure."
   ]
  },
  {
   "cell_type": "code",
   "execution_count": 13,
   "id": "87050207",
   "metadata": {
    "execution": {
     "iopub.execute_input": "2021-12-17T13:40:13.844424Z",
     "iopub.status.busy": "2021-12-17T13:40:13.836635Z",
     "iopub.status.idle": "2021-12-17T13:40:14.401800Z",
     "shell.execute_reply": "2021-12-17T13:40:14.402337Z",
     "shell.execute_reply.started": "2021-12-17T12:08:20.053043Z"
    },
    "papermill": {
     "duration": 0.604304,
     "end_time": "2021-12-17T13:40:14.402512",
     "exception": false,
     "start_time": "2021-12-17T13:40:13.798208",
     "status": "completed"
    },
    "tags": []
   },
   "outputs": [
    {
     "data": {
      "image/png": "[encoded data removed]",
      "text/plain": [
       "<Figure size 1080x360 with 1 Axes>"
      ]
     },
     "metadata": {
      "needs_background": "light"
     },
     "output_type": "display_data"
    },
    {
     "data": {
      "image/png": "[encoded data removed]",
      "text/plain": [
       "<Figure size 1080x288 with 2 Axes>"
      ]
     },
     "metadata": {
      "needs_background": "light"
     },
     "output_type": "display_data"
    }
   ],
   "source": [
    "#  distribution of RestingBP.\n",
    "\n",
    "bpMed = data.RestingBP.median()\n",
    "bpMean = data.RestingBP.mean()\n",
    "\n",
    "# grouped data by target feature 'HeartDisease'\n",
    "\n",
    "a = hd_df['RestingBP'] # with HeartDisease\n",
    "b = nhd_df['RestingBP'] # without HeartDisease\n",
    "\n",
    "# plot\n",
    "plt.figure(figsize=(15, 5))\n",
    "plt.hist(data.RestingBP, color = 'pink')\n",
    "plt.vlines(bpMed, ymin=-0, ymax=433, color='orange', ls='--', lw=2.5, label='Median')\n",
    "plt.vlines(bpMean, ymin=0, ymax=433, color='yellow',ls='--',lw=2.5, label='Mean')\n",
    "\n",
    "plt.xlim(70, 210)\n",
    "plt.ylabel('Frequency')\n",
    "plt.title(\"Distribution of Resting Blood Pressure\", loc='left')\n",
    "plt.legend()\n",
    "\n",
    "# subplots\n",
    "\n",
    "fig, axs=plt.subplots(nrows=1, ncols=2, figsize=(15, 4))\n",
    "ax1 = a.plot(kind='hist', ax=axs[0], color ='pink' )\n",
    "ax1.set_title('With Heart Disease', size=12.5)\n",
    "ax1.set_xlabel('Blood Pressure')\n",
    "ax1.set_xlim(70, 210)\n",
    "\n",
    "ax2 = b.plot(kind='hist', ax=axs[1],color ='pink')\n",
    "ax2.set_title('Without  Heart Disease', size=12.5)\n",
    "ax2.set_xlabel('Blood Pressure')\n",
    "ax2.set_xlim(70, 210)\n",
    "\n",
    "fig.suptitle('Distribution of Resting BP by Heart Disease', size=13 )\n",
    "plt.show()"
   ]
  },
  {
   "cell_type": "markdown",
   "id": "117829f0",
   "metadata": {
    "papermill": {
     "duration": 0.029284,
     "end_time": "2021-12-17T13:40:14.461175",
     "exception": false,
     "start_time": "2021-12-17T13:40:14.431891",
     "status": "completed"
    },
    "tags": []
   },
   "source": [
    "**Serum Cholesterol[mm/dl]**\n",
    "\n",
    "The distribution of serum cholesterol which shows that the some of the patients with high cholesterol values. The comparison shows that patient's with Heart Disease have higher cholesterol as compare to the patient without Heart Disease.\n",
    "\n"
   ]
  },
  {
   "cell_type": "code",
   "execution_count": 14,
   "id": "1a445a10",
   "metadata": {
    "execution": {
     "iopub.execute_input": "2021-12-17T13:40:14.560927Z",
     "iopub.status.busy": "2021-12-17T13:40:14.559822Z",
     "iopub.status.idle": "2021-12-17T13:40:14.895403Z",
     "shell.execute_reply": "2021-12-17T13:40:14.894745Z",
     "shell.execute_reply.started": "2021-12-17T12:08:20.628364Z"
    },
    "papermill": {
     "duration": 0.405037,
     "end_time": "2021-12-17T13:40:14.895544",
     "exception": false,
     "start_time": "2021-12-17T13:40:14.490507",
     "status": "completed"
    },
    "tags": []
   },
   "outputs": [
    {
     "data": {
      "image/png": "[encoded data removed]",
      "text/plain": [
       "<Figure size 1008x360 with 2 Axes>"
      ]
     },
     "metadata": {
      "needs_background": "light"
     },
     "output_type": "display_data"
    }
   ],
   "source": [
    "# grouped data by target feature 'HeartDisease'\n",
    "a = hd_df['Cholesterol']\n",
    "b = nhd_df['Cholesterol']\n",
    "\n",
    "fig, axs=plt.subplots(nrows=1, ncols=2, figsize=(14, 5))\n",
    "ax1 = a.plot(kind='hist', ax=axs[0], color= 'pink')\n",
    "ax1.set_title('With Heart Disease', size=12.5)\n",
    "ax1.set_xlabel('Cholesterol(mm/dl)')\n",
    "\n",
    "ax2 = b.plot(kind='hist', ax=axs[1] , color ='pink')\n",
    "ax2.set_title('Without Heart Disease', size=12.5)\n",
    "ax2.set_xlabel('Cholesterol(mm/dl)')\n",
    "\n",
    "fig.suptitle('Distribution of Serum Cholesterol by Heart Disease', size=16)\n",
    "plt.show()"
   ]
  },
  {
   "cell_type": "markdown",
   "id": "adba1425",
   "metadata": {
    "papermill": {
     "duration": 0.030152,
     "end_time": "2021-12-17T13:40:14.956100",
     "exception": false,
     "start_time": "2021-12-17T13:40:14.925948",
     "status": "completed"
    },
    "tags": []
   },
   "source": [
    "**FastingBS**\n",
    "\n",
    "The bar plot shows that, the most of the patients have had fasting blood sugar less than 120 mg/dl. Most of patients with high blood sugar have heart disease. However, there is no such difference between the number of patients with fasting blood sugar less than 120."
   ]
  },
  {
   "cell_type": "code",
   "execution_count": 15,
   "id": "88e20171",
   "metadata": {
    "execution": {
     "iopub.execute_input": "2021-12-17T13:40:15.020806Z",
     "iopub.status.busy": "2021-12-17T13:40:15.020179Z",
     "iopub.status.idle": "2021-12-17T13:40:15.034847Z",
     "shell.execute_reply": "2021-12-17T13:40:15.035407Z",
     "shell.execute_reply.started": "2021-12-17T12:08:21.000627Z"
    },
    "papermill": {
     "duration": 0.048943,
     "end_time": "2021-12-17T13:40:15.035577",
     "exception": false,
     "start_time": "2021-12-17T13:40:14.986634",
     "status": "completed"
    },
    "tags": []
   },
   "outputs": [
    {
     "name": "stdout",
     "output_type": "stream",
     "text": [
      "False    338\n",
      "True     170\n",
      "Name: FastingBS, dtype: int64\n",
      "False    366\n",
      "True      44\n",
      "Name: FastingBS, dtype: int64\n",
      "FastingBS\n",
      "False    704\n",
      "True     214\n",
      "Name: HeartDisease, dtype: int64\n"
     ]
    }
   ],
   "source": [
    "# grouped data by target feature 'HeartDisease'\n",
    "a = hd_df['FastingBS'].value_counts()\n",
    "a.rename(index={0:'False', 1:'True'}, inplace=True)\n",
    "print(a)\n",
    "b = nhd_df['FastingBS'].value_counts()\n",
    "b.rename(index={0:'False', 1:'True'}, inplace=True)\n",
    "print(b)\n",
    "\n",
    "df = data.groupby(['FastingBS']).count()['HeartDisease']\n",
    "df.rename(index={0:'False', 1:'True'}, inplace=True)\n",
    "print(df)"
   ]
  },
  {
   "cell_type": "code",
   "execution_count": 16,
   "id": "ba1a9b3a",
   "metadata": {
    "execution": {
     "iopub.execute_input": "2021-12-17T13:40:15.117353Z",
     "iopub.status.busy": "2021-12-17T13:40:15.099970Z",
     "iopub.status.idle": "2021-12-17T13:40:15.613170Z",
     "shell.execute_reply": "2021-12-17T13:40:15.613676Z",
     "shell.execute_reply.started": "2021-12-17T12:08:21.018820Z"
    },
    "papermill": {
     "duration": 0.54748,
     "end_time": "2021-12-17T13:40:15.613854",
     "exception": false,
     "start_time": "2021-12-17T13:40:15.066374",
     "status": "completed"
    },
    "tags": []
   },
   "outputs": [
    {
     "data": {
      "image/png": "[encoded data removed]",
      "text/plain": [
       "<Figure size 1080x360 with 3 Axes>"
      ]
     },
     "metadata": {
      "needs_background": "light"
     },
     "output_type": "display_data"
    }
   ],
   "source": [
    "# plots\n",
    "fig, axs = plt.subplots(1, 3, figsize=(15, 5), sharey=True)\n",
    "ax1 = df.plot(kind='bar', ax=axs[0],color = 'pink' )\n",
    "ax1.set_xlabel('Blood Suger(mg/dl)')\n",
    "ax1.set_ylabel('Count')\n",
    "ax1.set_title(\"Fasting BS of Patients\")\n",
    "\n",
    "ax2 = a.plot(kind='bar', ax=axs[1], color = 'pink')\n",
    "ax2.set_xlabel('Blood Suger(mg/dl)')\n",
    "ax2.set_title(\"With Heart Disease\")\n",
    "\n",
    "ax3 = b.plot(kind='bar', ax=axs[2], color='pink')\n",
    "ax3.set_xlabel('Blood Suger(mg/dl)')\n",
    "ax3.set_title(\"Without Heart Disease\")\n",
    "plt.show()"
   ]
  },
  {
   "cell_type": "markdown",
   "id": "eb298a1e",
   "metadata": {
    "papermill": {
     "duration": 0.031444,
     "end_time": "2021-12-17T13:40:15.677198",
     "exception": false,
     "start_time": "2021-12-17T13:40:15.645754",
     "status": "completed"
    },
    "tags": []
   },
   "source": [
    "**MaxHR (Maximum Heart Rate)**\n",
    "\n",
    "The distribution of maximum heart rate which shows that, some of the patients have comparatively low heart rate. The maximum heart rate of patients without heart disease shows a higher heart rate (around 160) as compare to maximum heart rate of patients with heart disease(~120). The histogram of people without heart disease shows the leptokurtic ditribution.\n",
    "\n"
   ]
  },
  {
   "cell_type": "code",
   "execution_count": 17,
   "id": "9b7cebf5",
   "metadata": {
    "execution": {
     "iopub.execute_input": "2021-12-17T13:40:15.744886Z",
     "iopub.status.busy": "2021-12-17T13:40:15.744069Z",
     "iopub.status.idle": "2021-12-17T13:40:16.108612Z",
     "shell.execute_reply": "2021-12-17T13:40:16.108056Z",
     "shell.execute_reply.started": "2021-12-17T12:10:27.936081Z"
    },
    "papermill": {
     "duration": 0.399949,
     "end_time": "2021-12-17T13:40:16.108746",
     "exception": false,
     "start_time": "2021-12-17T13:40:15.708797",
     "status": "completed"
    },
    "tags": []
   },
   "outputs": [
    {
     "data": {
      "image/png": "[encoded data removed]",
      "text/plain": [
       "<Figure size 1008x288 with 2 Axes>"
      ]
     },
     "metadata": {
      "needs_background": "light"
     },
     "output_type": "display_data"
    }
   ],
   "source": [
    "# grouped data by target feature 'HeartDisease'\n",
    "a = hd_df['MaxHR']\n",
    "b = nhd_df['MaxHR']\n",
    "\n",
    "\n",
    "# subplots\n",
    "fig, axs=plt.subplots(nrows=1, ncols=2, figsize=(14, 4), sharey=True)\n",
    "ax1 = a.plot(kind='hist', ax=axs[0], color='pink')\n",
    "ax1.set_title('With Heart Disease', size=12.5)\n",
    "ax2 = b.plot(kind='hist', ax=axs[1], color ='pink')\n",
    "ax2.set_title('Without Heart Disease', size=12.5)\n",
    "\n",
    "fig.suptitle('Maximum Heart Rate by Heart Disease', size=16)\n",
    "plt.show()"
   ]
  },
  {
   "cell_type": "markdown",
   "id": "82dfd6db",
   "metadata": {
    "papermill": {
     "duration": 0.031733,
     "end_time": "2021-12-17T13:40:16.172908",
     "exception": false,
     "start_time": "2021-12-17T13:40:16.141175",
     "status": "completed"
    },
    "tags": []
   },
   "source": [
    "**Gender Classification of People with Heart Disease and without Heart Disease **\n",
    "\n",
    "in this data showes that there is 79% Men are going to hospital for appiotment of Heartdisease this percentage shoes that Man Ratio is more then female.\n",
    "\n",
    "90% of people with heart disease are male, which shows that men are more likely to have a heart disease than women.\n",
    "Then also 65% of people with no heart disease are male,then again which shows that men are more likely to have a no heart disease than women.\n"
   ]
  },
  {
   "cell_type": "code",
   "execution_count": 18,
   "id": "54adcd1a",
   "metadata": {
    "execution": {
     "iopub.execute_input": "2021-12-17T13:40:16.240979Z",
     "iopub.status.busy": "2021-12-17T13:40:16.240368Z",
     "iopub.status.idle": "2021-12-17T13:40:16.776818Z",
     "shell.execute_reply": "2021-12-17T13:40:16.777328Z",
     "shell.execute_reply.started": "2021-12-17T13:39:43.947805Z"
    },
    "papermill": {
     "duration": 0.572108,
     "end_time": "2021-12-17T13:40:16.777496",
     "exception": false,
     "start_time": "2021-12-17T13:40:16.205388",
     "status": "completed"
    },
    "tags": []
   },
   "outputs": [
    {
     "data": {
      "image/png": "[encoded data removed]",
      "text/plain": [
       "<Figure size 432x288 with 1 Axes>"
      ]
     },
     "metadata": {
      "needs_background": "light"
     },
     "output_type": "display_data"
    },
    {
     "data": {
      "image/png": "[encoded data removed]",
      "text/plain": [
       "<Figure size 432x288 with 1 Axes>"
      ]
     },
     "metadata": {
      "needs_background": "light"
     },
     "output_type": "display_data"
    },
    {
     "data": {
      "image/png": "[encoded data removed]",
      "text/plain": [
       "<Figure size 432x288 with 1 Axes>"
      ]
     },
     "metadata": {
      "needs_background": "light"
     },
     "output_type": "display_data"
    }
   ],
   "source": [
    "\n",
    "\n",
    "Sex = data.groupby(['Sex']).count()['Age']\n",
    "Sex.rename(index= {'F':'Female','M':'Male'},inplace =True)\n",
    "Sex =(Sex/Sex.sum())*100\n",
    "\n",
    "cx1 = Sex.plot.bar(color= 'pink')\n",
    "plt.xlabel('Gender')\n",
    "plt.ylabel('Percentage')\n",
    "plt.title('Total Male & Female Percantage in Database', loc='left')\n",
    "# annotation\n",
    "i = 0\n",
    "for val in Sex.values:\n",
    "    plt.text( i,val+3, str(round(val))+'%', size=13, ha='center')\n",
    "    i += 1\n",
    "plt.ylim(0, 110)\n",
    "plt.xticks(rotation=0)\n",
    "plt.show()\n",
    "\n",
    "# Grouping data based on sex values on Data of people with HeartDisease.\n",
    "a = hd_df.groupby('Sex').count()['Age'].sort_values(ascending=False)\n",
    "a = (a/a.sum())*100\n",
    "a.rename(index={'M':'Male', 'F':'Female'}, inplace=True)\n",
    "ax1 = a.plot(kind='bar',color= 'pink' )\n",
    "plt.xlabel('Gender')\n",
    "plt.ylabel('Percentage')\n",
    "plt.title('Gender Classification by HeartDisease', loc='left')\n",
    "\n",
    "# annotation\n",
    "i = 0\n",
    "for val in a.values:\n",
    "    plt.text( i,val+3, str(round(val))+'%', size=13, ha='center')\n",
    "    i += 1\n",
    "plt.ylim(0, 110)\n",
    "plt.xticks(rotation=0)\n",
    "plt.show()\n",
    "\n",
    "# Grouping data based on sex values on Data of people without HeartDisease.\n",
    "b = nhd_df.groupby('Sex').count()['Age'].sort_values(ascending = True)\n",
    "b = (b/b.sum())*100\n",
    "b.rename(index={'M':'Male','F':'Female'}, inplace= True)\n",
    "\n",
    "bx1 = b.plot(kind='bar',color= 'pink' )\n",
    "plt.xlabel('Gender')\n",
    "plt.ylabel('Percentage')\n",
    "plt.title('Gender Classification by with No HeartDisease', loc='left')\n",
    "\n",
    "# annotation\n",
    "i = 0\n",
    "for val in b.values:\n",
    "    plt.text( i,val+3, str(round(val))+'%', size=13, ha='center')\n",
    "    i += 1\n",
    "plt.ylim(0, 110)\n",
    "plt.xticks(rotation=0)\n",
    "plt.show()\n",
    "\n"
   ]
  },
  {
   "cell_type": "code",
   "execution_count": null,
   "id": "3f5ce8bd",
   "metadata": {
    "papermill": {
     "duration": 0.034321,
     "end_time": "2021-12-17T13:40:16.846632",
     "exception": false,
     "start_time": "2021-12-17T13:40:16.812311",
     "status": "completed"
    },
    "tags": []
   },
   "outputs": [],
   "source": []
  }
 ],
 "metadata": {
  "kernelspec": {
   "display_name": "Python 3",
   "language": "python",
   "name": "python3"
  },
  "language_info": {
   "codemirror_mode": {
    "name": "ipython",
    "version": 3
   },
   "file_extension": ".py",
   "mimetype": "text/x-python",
   "name": "python",
   "nbconvert_exporter": "python",
   "pygments_lexer": "ipython3",
   "version": "3.7.12"
  },
  "papermill": {
   "default_parameters": {},
   "duration": 16.999512,
   "end_time": "2021-12-17T13:40:17.591497",
   "environment_variables": {},
   "exception": null,
   "input_path": "__notebook__.ipynb",
   "output_path": "__notebook__.ipynb",
   "parameters": {},
   "start_time": "2021-12-17T13:40:00.591985",
   "version": "2.3.3"
  }
 },
 "nbformat": 4,
 "nbformat_minor": 5
}
